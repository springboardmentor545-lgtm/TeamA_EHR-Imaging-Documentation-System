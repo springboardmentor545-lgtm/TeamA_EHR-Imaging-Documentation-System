{
  "cells": [
    {
      "cell_type": "code",
      "execution_count": null,
      "metadata": {
        "colab": {
          "base_uri": "https://localhost:8080/",
          "height": 481
        },
        "id": "9pIbASrCIPrx",
        "outputId": "83a428a1-952d-4f13-c327-744dc096f083"
      },
      "outputs": [
        {
          "ename": "error",
          "evalue": "OpenCV(4.12.0) D:\\a\\opencv-python\\opencv-python\\opencv\\modules\\imgproc\\src\\smooth.dispatch.cpp:618: error: (-215:Assertion failed) !_src.empty() in function 'cv::GaussianBlur'\n",
          "output_type": "error",
          "traceback": [
            "\u001b[1;31m---------------------------------------------------------------------------\u001b[0m",
            "\u001b[1;31merror\u001b[0m                                     Traceback (most recent call last)",
            "Cell \u001b[1;32mIn[1], line 16\u001b[0m\n\u001b[0;32m     12\u001b[0m clahe \u001b[38;5;241m=\u001b[39m cv2\u001b[38;5;241m.\u001b[39mcreateCLAHE(clipLimit\u001b[38;5;241m=\u001b[39m\u001b[38;5;241m2.0\u001b[39m, tileGridSize\u001b[38;5;241m=\u001b[39m(\u001b[38;5;241m8\u001b[39m,\u001b[38;5;241m8\u001b[39m))\n\u001b[0;32m     13\u001b[0m blurred_like_enhanced \u001b[38;5;241m=\u001b[39m clahe\u001b[38;5;241m.\u001b[39mapply(img)\n\u001b[1;32m---> 16\u001b[0m gaussian \u001b[38;5;241m=\u001b[39m \u001b[43mcv2\u001b[49m\u001b[38;5;241;43m.\u001b[39;49m\u001b[43mGaussianBlur\u001b[49m\u001b[43m(\u001b[49m\u001b[43mblurred_like_enhanced\u001b[49m\u001b[43m,\u001b[49m\u001b[43m \u001b[49m\u001b[43m(\u001b[49m\u001b[38;5;241;43m0\u001b[39;49m\u001b[43m,\u001b[49m\u001b[38;5;241;43m0\u001b[39;49m\u001b[43m)\u001b[49m\u001b[43m,\u001b[49m\u001b[43m \u001b[49m\u001b[38;5;241;43m1\u001b[39;49m\u001b[43m)\u001b[49m\n\u001b[0;32m     17\u001b[0m blurred_like_enhanced \u001b[38;5;241m=\u001b[39m cv2\u001b[38;5;241m.\u001b[39maddWeighted(blurred_like_enhanced, \u001b[38;5;241m1.2\u001b[39m, gaussian, \u001b[38;5;241m-\u001b[39m\u001b[38;5;241m0.2\u001b[39m, \u001b[38;5;241m0\u001b[39m)\n\u001b[0;32m     19\u001b[0m \u001b[38;5;66;03m# Save as blurred image\u001b[39;00m\n",
            "\u001b[1;31merror\u001b[0m: OpenCV(4.12.0) D:\\a\\opencv-python\\opencv-python\\opencv\\modules\\imgproc\\src\\smooth.dispatch.cpp:618: error: (-215:Assertion failed) !_src.empty() in function 'cv::GaussianBlur'\n"
          ]
        }
      ],
      "source": [
        "import cv2\n",
        "import numpy as np\n",
        "import matplotlib.pyplot as plt\n",
        "\n",
        "\n",
        "\n",
        "img = cv2.imread(\"data/images/CT_001.png\", cv2.IMREAD_GRAYSCALE)\n",
        "\n",
        "\n",
        "# -------------------- Step 1: Create \"Blurred\" Image --------------------\n",
        "\n",
        "clahe = cv2.createCLAHE(clipLimit=2.0, tileGridSize=(8,8))\n",
        "blurred_like_enhanced = clahe.apply(img)\n",
        "\n",
        "\n",
        "gaussian = cv2.GaussianBlur(blurred_like_enhanced, (0,0), 1)\n",
        "blurred_like_enhanced = cv2.addWeighted(blurred_like_enhanced, 1.2, gaussian, -0.2, 0)\n",
        "\n",
        "# Save as blurred image\n",
        "cv2.imwrite(\"blurred_xray.png\", blurred_like_enhanced)\n",
        "\n",
        "# -------------------- Step 2: Create \"Enhanced\" Image\" --------------------\n",
        "\n",
        "denoised = cv2.bilateralFilter(blurred_like_enhanced, d=9, sigmaColor=75, sigmaSpace=75)\n",
        "enhanced = cv2.addWeighted(denoised, 1.5, cv2.GaussianBlur(denoised, (0,0), 2), -0.5, 0)\n",
        "\n",
        "\n",
        "enhanced = clahe.apply(enhanced)\n",
        "\n",
        "\n",
        "cv2.imwrite(\"enhanced_xray.png\", enhanced)\n",
        "\n",
        "# -------------------- Display --------------------\n",
        "plt.figure(figsize=(12,6))\n",
        "\n",
        "plt.subplot(1,2,2)\n",
        "plt.imshow(enhanced, cmap='gray')\n",
        "plt.title(\"Blurr Image\")\n",
        "plt.axis(\"off\")\n",
        "\n",
        "plt.subplot(1,2,1)\n",
        "plt.imshow(blurred_like_enhanced, cmap='gray')\n",
        "plt.title(\"Enhanced Image\")\n",
        "plt.axis(\"off\")\n",
        "\n",
        "\n",
        "\n",
        "plt.show()\n"
      ]
    },
    {
      "cell_type": "code",
      "execution_count": null,
      "metadata": {
        "id": "aLSgNmx3IZ9o"
      },
      "outputs": [],
      "source": []
    }
  ],
  "metadata": {
    "accelerator": "GPU",
    "colab": {
      "gpuType": "T4",
      "provenance": []
    },
    "kernelspec": {
      "display_name": "3.10.11",
      "language": "python",
      "name": "python3"
    },
    "language_info": {
      "codemirror_mode": {
        "name": "ipython",
        "version": 3
      },
      "file_extension": ".py",
      "mimetype": "text/x-python",
      "name": "python",
      "nbconvert_exporter": "python",
      "pygments_lexer": "ipython3",
      "version": "3.10.11"
    }
  },
  "nbformat": 4,
  "nbformat_minor": 0
}
